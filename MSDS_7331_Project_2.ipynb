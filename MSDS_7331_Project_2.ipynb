{
 "cells": [
  {
   "cell_type": "markdown",
   "metadata": {},
   "source": [
    "##### SMU Masters of Data Science MSDS 7331 Data Mining\n",
    "##### Mini-Lab: Logistic Regression and SVMs\n",
    "##### Names: James (Jim) Brittain Joseph Cook"
   ]
  },
  {
   "cell_type": "markdown",
   "metadata": {},
   "source": [
    "#### SVM and Logistic Regression Modeling\n",
    "• [50 points] Create a logistic regression model and a support vector machine model for the\n",
    "classification task involved with your dataset. Assess how well each model performs (use\n",
    "80/20 training/testing split for your data). Adjust parameters of the models to make them more\n",
    "accurate. If your dataset size requires the use of stochastic gradient descent, then linear kernel\n",
    "only is fine to use.\n",
    "\n",
    "• [10 points] Discuss the advantages of each model for each classification task. Does one type\n",
    "of model offer superior performance over another in terms of prediction accuracy? In terms of\n",
    "training time or efficiency? Explain in detail.\n",
    "\n",
    "• [30 points] Use the weights from logistic regression to interpret the importance of different\n",
    "features for each classification task. Explain your interpretation in detail. Why do you think\n",
    "some variables are more important?\n",
    "\n",
    "• [10 points] Look at the chosen support vectors for the classification task. Do these provide\n",
    "any insight into the data? Explain."
   ]
  },
  {
   "cell_type": "markdown",
   "metadata": {},
   "source": [
    "#### MovieLens Data\n",
    "MovieLens data sets were collected by the GroupLens Research Project\n",
    "at the University of Minnesota.\n",
    "\n",
    "The data being used for this project is an older file but the older file includes demographics of the users who are rating the movies.  This file can be found here: https://grouplens.org/datasets/movielens/100k/ \n",
    " \n",
    "This data set consists of:\n",
    "\t* 100,000 ratings (1-5) from 943 users on 1682 movies. \n",
    "\t* Each user has rated at least 20 movies. \n",
    "        * Simple demographic info for the users (age, gender, occupation, zip)\n",
    "\n",
    "The data was collected through the MovieLens web site\n",
    "(movielens.umn.edu) during the seven-month period from September 19th, \n",
    "1997 through April 22nd, 1998. This data has been cleaned up - users\n",
    "who had less than 20 ratings or did not have complete demographic\n",
    "information were removed from this data set. \n",
    "\n",
    "\n",
    "##### DETAILED DESCRIPTIONS OF DATA FILES\n",
    "\n",
    "u.data     \n",
    "* The full u data set, 100000 ratings by 943 users on 1682 items.\n",
    "* Each user has rated at least 20 movies.  Users and items are numbered consecutively from 1.  \n",
    "* The data is randomly ordered. \n",
    "* This is a tab separated list of: \n",
    "     * user id | item id | rating | timestamp. \n",
    "* The time stamps are unix seconds since 1/1/1970 UTC   \n",
    "\n",
    "u.item  \n",
    "* Information about the items (movies)\n",
    "* This is a tab separated list of:\n",
    "     * movie id | movie title | release date | video release date |\n",
    "       IMDb URL | unknown | Action | Adventure | Animation |\n",
    "       Children's | Comedy | Crime | Documentary | Drama | Fantasy |\n",
    "       Film-Noir | Horror | Musical | Mystery | Romance | Sci-Fi |\n",
    "       Thriller | War | Western |\n",
    "     * These last 19 fields are the genres, a 1 indicates the movie\n",
    "        is of that genre, a 0 indicates it is not; movies can be in\n",
    "        several genres at once.\n",
    "* The movie ids are the ones used in the u.data data set.\n",
    "\n",
    "u.user    \n",
    "* Demographic information about the users \n",
    "* This is a tab separated list of:\n",
    "     * user id | age | gender | occupation | zip code\n",
    "* The user ids are the ones used in the u.data data set.\n",
    "\n",
    "Test / Training Data\n",
    "u1.base - u5.base \n",
    "u1.test - u5.test      \n",
    "\n",
    "* The data sets u1.base and u1.test through u5.base and u5.test are 80%/20% splits of the u data into training and test data.\n",
    "* Each of u1, ..., u5 have disjoint test sets; this if for 5 fold cross validation (where you repeat your experiment\n",
    "  with each training and test set and average the results).\n"
   ]
  },
  {
   "cell_type": "code",
   "execution_count": 41,
   "metadata": {
    "collapsed": false
   },
   "outputs": [],
   "source": [
    "# IMPORT PACKAGES NEEDED \n",
    "import pandas as pd\n",
    "import numpy  as np\n",
    "from datetime import date\n",
    "\n",
    "import matplotlib.pyplot as plt\n",
    "# show plots in the notebook\n",
    "%matplotlib inline\n",
    "\n",
    "from sklearn.model_selection import ShuffleSplit\n",
    "\n",
    "from sklearn.linear_model import LogisticRegression\n",
    "from sklearn import metrics as mt\n"
   ]
  },
  {
   "cell_type": "code",
   "execution_count": 42,
   "metadata": {
    "collapsed": false
   },
   "outputs": [],
   "source": [
    "# Read In Data\n",
    "users_cols = ['user_id', 'u_age', 'u_sex', 'u_occupation', 'u_zip_code']\n",
    "users = pd.read_table('ml-100k/u.user', \n",
    "                    sep='|', \n",
    "                    names=users_cols,\n",
    "                    encoding='latin-1')\n",
    "\n",
    "\n",
    "ratings_cols = ['user_id', 'movie_id', 'r_rating', 'r_rating_timestamp']\n",
    "ratings = pd.read_table('ml-100k/u.data', \n",
    "                      sep='\\t', \n",
    "                      names=ratings_cols,\n",
    "                      encoding='latin-1')\n",
    "\n",
    "movies_cols = ['movie_id', 'm_title', 'm_release_date', 'm_video_release_date', 'm_imdb_url',\n",
    "               'm_Unknown','m_Action','m_Adventure','m_Animation','m_Children','m_Comedy','m_Crime',\n",
    "               'm_Documentary','m_Drama','m_Fantasy','m_Film_Noir','m_Horror','m_Musical','m_Mystery',\n",
    "               'm_Romance','m_Sci-Fi','m_Thriller','m_War','m_Western'\n",
    "              ]\n",
    "movies = pd.read_table('ml-100k/u.item', \n",
    "                     sep='|', \n",
    "                     names=movies_cols, \n",
    "                     encoding='latin-1')\n",
    "\n"
   ]
  },
  {
   "cell_type": "code",
   "execution_count": 43,
   "metadata": {
    "collapsed": false
   },
   "outputs": [
    {
     "name": "stdout",
     "output_type": "stream",
     "text": [
      "   user_id  movie_id  r_rating  r_rating_timestamp\n",
      "0      196       242         3           881250949\n",
      "1      186       302         3           891717742\n",
      "2       22       377         1           878887116\n",
      "3      244        51         2           880606923\n",
      "4      166       346         1           886397596\n",
      "user_id               int64\n",
      "movie_id              int64\n",
      "r_rating              int64\n",
      "r_rating_timestamp    int64\n",
      "dtype: object\n",
      "   movie_id            m_title m_release_date  m_video_release_date  \\\n",
      "0         1   Toy Story (1995)    01-Jan-1995                   NaN   \n",
      "1         2   GoldenEye (1995)    01-Jan-1995                   NaN   \n",
      "2         3  Four Rooms (1995)    01-Jan-1995                   NaN   \n",
      "3         4  Get Shorty (1995)    01-Jan-1995                   NaN   \n",
      "4         5     Copycat (1995)    01-Jan-1995                   NaN   \n",
      "\n",
      "                                          m_imdb_url  m_Unknown  m_Action  \\\n",
      "0  http://us.imdb.com/M/title-exact?Toy%20Story%2...          0         0   \n",
      "1  http://us.imdb.com/M/title-exact?GoldenEye%20(...          0         1   \n",
      "2  http://us.imdb.com/M/title-exact?Four%20Rooms%...          0         0   \n",
      "3  http://us.imdb.com/M/title-exact?Get%20Shorty%...          0         1   \n",
      "4  http://us.imdb.com/M/title-exact?Copycat%20(1995)          0         0   \n",
      "\n",
      "   m_Adventure  m_Animation  m_Children    ...      m_Fantasy  m_Film_Noir  \\\n",
      "0            0            1           1    ...              0            0   \n",
      "1            1            0           0    ...              0            0   \n",
      "2            0            0           0    ...              0            0   \n",
      "3            0            0           0    ...              0            0   \n",
      "4            0            0           0    ...              0            0   \n",
      "\n",
      "   m_Horror  m_Musical  m_Mystery  m_Romance  m_Sci-Fi  m_Thriller  m_War  \\\n",
      "0         0          0          0          0         0           0      0   \n",
      "1         0          0          0          0         0           1      0   \n",
      "2         0          0          0          0         0           1      0   \n",
      "3         0          0          0          0         0           0      0   \n",
      "4         0          0          0          0         0           1      0   \n",
      "\n",
      "   m_Western  \n",
      "0          0  \n",
      "1          0  \n",
      "2          0  \n",
      "3          0  \n",
      "4          0  \n",
      "\n",
      "[5 rows x 24 columns]\n",
      "movie_id                  int64\n",
      "m_title                  object\n",
      "m_release_date           object\n",
      "m_video_release_date    float64\n",
      "m_imdb_url               object\n",
      "m_Unknown                 int64\n",
      "m_Action                  int64\n",
      "m_Adventure               int64\n",
      "m_Animation               int64\n",
      "m_Children                int64\n",
      "m_Comedy                  int64\n",
      "m_Crime                   int64\n",
      "m_Documentary             int64\n",
      "m_Drama                   int64\n",
      "m_Fantasy                 int64\n",
      "m_Film_Noir               int64\n",
      "m_Horror                  int64\n",
      "m_Musical                 int64\n",
      "m_Mystery                 int64\n",
      "m_Romance                 int64\n",
      "m_Sci-Fi                  int64\n",
      "m_Thriller                int64\n",
      "m_War                     int64\n",
      "m_Western                 int64\n",
      "dtype: object\n",
      "   user_id  u_age u_sex u_occupation u_zip_code\n",
      "0        1     24     M   technician      85711\n",
      "1        2     53     F        other      94043\n",
      "2        3     23     M       writer      32067\n",
      "3        4     24     M   technician      43537\n",
      "4        5     33     F        other      15213\n",
      "user_id          int64\n",
      "u_age            int64\n",
      "u_sex           object\n",
      "u_occupation    object\n",
      "u_zip_code      object\n",
      "dtype: object\n"
     ]
    }
   ],
   "source": [
    "print (ratings.head())\n",
    "print (ratings.dtypes)\n",
    "\n",
    "print (movies.head())\n",
    "print (movies.dtypes)\n",
    "\n",
    "print (users.head())\n",
    "print (users.dtypes)"
   ]
  },
  {
   "cell_type": "code",
   "execution_count": 44,
   "metadata": {
    "collapsed": false
   },
   "outputs": [
    {
     "name": "stdout",
     "output_type": "stream",
     "text": [
      "0        788918400000000000\n",
      "1        788918400000000000\n",
      "2        788918400000000000\n",
      "3        788918400000000000\n",
      "4        788918400000000000\n",
      "5        788918400000000000\n",
      "6        788918400000000000\n",
      "7        788918400000000000\n",
      "8        788918400000000000\n",
      "9        788918400000000000\n",
      "10       788918400000000000\n",
      "11       788918400000000000\n",
      "12       788918400000000000\n",
      "13       788918400000000000\n",
      "14       788918400000000000\n",
      "15       788918400000000000\n",
      "16       788918400000000000\n",
      "17       788918400000000000\n",
      "18       788918400000000000\n",
      "19       788918400000000000\n",
      "20       788918400000000000\n",
      "21       788918400000000000\n",
      "22       788918400000000000\n",
      "23       788918400000000000\n",
      "24       788918400000000000\n",
      "25       788918400000000000\n",
      "26       788918400000000000\n",
      "27       788918400000000000\n",
      "28       788918400000000000\n",
      "29       788918400000000000\n",
      "                ...        \n",
      "99970    849830400000000000\n",
      "99971    829267200000000000\n",
      "99972    839548800000000000\n",
      "99973    757382400000000000\n",
      "99974    864950400000000000\n",
      "99975    864950400000000000\n",
      "99976    862358400000000000\n",
      "99977    861321600000000000\n",
      "99978    861321600000000000\n",
      "99979    861321600000000000\n",
      "99980    861321600000000000\n",
      "99981    861926400000000000\n",
      "99982    862531200000000000\n",
      "99983    866160000000000000\n",
      "99984    866160000000000000\n",
      "99985    866764800000000000\n",
      "99986    886291200000000000\n",
      "99987    887932800000000000\n",
      "99988    725846400000000000\n",
      "99989    725846400000000000\n",
      "99990    788918400000000000\n",
      "99991   -252460800000000000\n",
      "99992    846201600000000000\n",
      "99993    820454400000000000\n",
      "99994    843177600000000000\n",
      "99995    886723200000000000\n",
      "99996    886723200000000000\n",
      "99997    883612800000000000\n",
      "99998    757382400000000000\n",
      "99999    826243200000000000\n",
      "Name: date_movie, dtype: int64\n"
     ]
    },
    {
     "data": {
      "text/plain": [
       "0       -9223372036854775808\n",
       "1       -9223372036854775808\n",
       "2       -9223372036854775808\n",
       "3       -9223372036854775808\n",
       "4       -9223372036854775808\n",
       "5       -9223372036854775808\n",
       "6       -9223372036854775808\n",
       "7       -9223372036854775808\n",
       "8       -9223372036854775808\n",
       "9       -9223372036854775808\n",
       "10      -9223372036854775808\n",
       "11      -9223372036854775808\n",
       "12      -9223372036854775808\n",
       "13      -9223372036854775808\n",
       "14      -9223372036854775808\n",
       "15      -9223372036854775808\n",
       "16      -9223372036854775808\n",
       "17      -9223372036854775808\n",
       "18      -9223372036854775808\n",
       "19      -9223372036854775808\n",
       "20      -9223372036854775808\n",
       "21      -9223372036854775808\n",
       "22      -9223372036854775808\n",
       "23      -9223372036854775808\n",
       "24      -9223372036854775808\n",
       "25      -9223372036854775808\n",
       "26      -9223372036854775808\n",
       "27      -9223372036854775808\n",
       "28      -9223372036854775808\n",
       "29      -9223372036854775808\n",
       "                ...         \n",
       "99970   -9223372036854775808\n",
       "99971   -9223372036854775808\n",
       "99972   -9223372036854775808\n",
       "99973   -9223372036854775808\n",
       "99974   -9223372036854775808\n",
       "99975   -9223372036854775808\n",
       "99976   -9223372036854775808\n",
       "99977   -9223372036854775808\n",
       "99978   -9223372036854775808\n",
       "99979   -9223372036854775808\n",
       "99980   -9223372036854775808\n",
       "99981   -9223372036854775808\n",
       "99982   -9223372036854775808\n",
       "99983   -9223372036854775808\n",
       "99984   -9223372036854775808\n",
       "99985   -9223372036854775808\n",
       "99986   -9223372036854775808\n",
       "99987   -9223372036854775808\n",
       "99988   -9223372036854775808\n",
       "99989   -9223372036854775808\n",
       "99990   -9223372036854775808\n",
       "99991   -9223372036854775808\n",
       "99992   -9223372036854775808\n",
       "99993   -9223372036854775808\n",
       "99994   -9223372036854775808\n",
       "99995   -9223372036854775808\n",
       "99996   -9223372036854775808\n",
       "99997   -9223372036854775808\n",
       "99998   -9223372036854775808\n",
       "99999   -9223372036854775808\n",
       "Name: date_video, dtype: int64"
      ]
     },
     "execution_count": 44,
     "metadata": {},
     "output_type": "execute_result"
    }
   ],
   "source": [
    "# Merge to 1 full DATAFRAME\n",
    "m1 = movies.merge(ratings, on='movie_id', how='left')\n",
    "\n",
    "mr = m1.merge(users, on='user_id', how='left')\n",
    "\n",
    "# Create Sex indicator \n",
    "mr['u_male'] = mr['u_sex']=='M' \n",
    "mr['u_male'] = mr['u_male'].astype(np.int)\n",
    "\n",
    "# Substring out Release Year\n",
    "mr['m_release_year'] = mr['m_release_date'].str[7:]\n",
    "\n",
    "# Create Date variables to later subtract to get Days To VIdeo\n",
    "mr['date_movie'] = pd.to_datetime(mr['m_release_date'], format='%d-%b-%Y')\n",
    "mr['date_movie'] = pd.to_numeric(mr['date_movie'])\n",
    "print(mr['date_movie'])\n",
    "mr['date_video'] = pd.to_datetime(mr['m_video_release_date'], format='%d%b%Y')\n",
    "mr['date_video'] = pd.to_numeric(mr['date_video'])\n",
    "\n",
    "mr['m_days_to_video'] = mr['date_video'] - mr['date_movie']\n",
    "\n",
    "# Create a binary indicator of rating (Good/Bad) as a target for Logistic Regression\n",
    "# Using 4+ as a indicator of a \"good\" movie rating\n",
    "mr['r_good_rating'] = mr['r_rating']>=4\n",
    "mr['r_good_rating'] = mr['r_good_rating'].astype(np.int)\n",
    "mr['date_video']"
   ]
  },
  {
   "cell_type": "code",
   "execution_count": 45,
   "metadata": {
    "collapsed": false
   },
   "outputs": [
    {
     "name": "stdout",
     "output_type": "stream",
     "text": [
      "   movie_id           m_title m_release_date  m_video_release_date  \\\n",
      "0         1  Toy Story (1995)    01-Jan-1995                   NaN   \n",
      "1         1  Toy Story (1995)    01-Jan-1995                   NaN   \n",
      "2         1  Toy Story (1995)    01-Jan-1995                   NaN   \n",
      "3         1  Toy Story (1995)    01-Jan-1995                   NaN   \n",
      "4         1  Toy Story (1995)    01-Jan-1995                   NaN   \n",
      "\n",
      "                                          m_imdb_url  m_Unknown  m_Action  \\\n",
      "0  http://us.imdb.com/M/title-exact?Toy%20Story%2...          0         0   \n",
      "1  http://us.imdb.com/M/title-exact?Toy%20Story%2...          0         0   \n",
      "2  http://us.imdb.com/M/title-exact?Toy%20Story%2...          0         0   \n",
      "3  http://us.imdb.com/M/title-exact?Toy%20Story%2...          0         0   \n",
      "4  http://us.imdb.com/M/title-exact?Toy%20Story%2...          0         0   \n",
      "\n",
      "   m_Adventure  m_Animation  m_Children      ...        u_age  u_sex  \\\n",
      "0            0            1           1      ...           60      M   \n",
      "1            0            1           1      ...           21      M   \n",
      "2            0            1           1      ...           33      M   \n",
      "3            0            1           1      ...           30      F   \n",
      "4            0            1           1      ...           23      M   \n",
      "\n",
      "   u_occupation  u_zip_code  u_male  m_release_year          date_movie  \\\n",
      "0       retired       95076       1            1995  788918400000000000   \n",
      "1      salesman       31211       1            1995  788918400000000000   \n",
      "2      engineer       97006       1            1995  788918400000000000   \n",
      "3     librarian       22903       0            1995  788918400000000000   \n",
      "4       student       80521       1            1995  788918400000000000   \n",
      "\n",
      "            date_video      m_days_to_video  r_good_rating  \n",
      "0 -9223372036854775808  8434453636854775808              1  \n",
      "1 -9223372036854775808  8434453636854775808              1  \n",
      "2 -9223372036854775808  8434453636854775808              1  \n",
      "3 -9223372036854775808  8434453636854775808              1  \n",
      "4 -9223372036854775808  8434453636854775808              0  \n",
      "\n",
      "[5 rows x 37 columns]\n",
      "movie_id                  int64\n",
      "m_title                  object\n",
      "m_release_date           object\n",
      "m_video_release_date    float64\n",
      "m_imdb_url               object\n",
      "m_Unknown                 int64\n",
      "m_Action                  int64\n",
      "m_Adventure               int64\n",
      "m_Animation               int64\n",
      "m_Children                int64\n",
      "m_Comedy                  int64\n",
      "m_Crime                   int64\n",
      "m_Documentary             int64\n",
      "m_Drama                   int64\n",
      "m_Fantasy                 int64\n",
      "m_Film_Noir               int64\n",
      "m_Horror                  int64\n",
      "m_Musical                 int64\n",
      "m_Mystery                 int64\n",
      "m_Romance                 int64\n",
      "m_Sci-Fi                  int64\n",
      "m_Thriller                int64\n",
      "m_War                     int64\n",
      "m_Western                 int64\n",
      "user_id                   int64\n",
      "r_rating                  int64\n",
      "r_rating_timestamp        int64\n",
      "u_age                     int64\n",
      "u_sex                    object\n",
      "u_occupation             object\n",
      "u_zip_code               object\n",
      "u_male                    int32\n",
      "m_release_year           object\n",
      "date_movie                int64\n",
      "date_video                int64\n",
      "m_days_to_video           int64\n",
      "r_good_rating             int32\n",
      "dtype: object\n"
     ]
    }
   ],
   "source": [
    "print (mr.head())\n",
    "print (mr.dtypes)\n"
   ]
  },
  {
   "cell_type": "markdown",
   "metadata": {},
   "source": [
    "##### Days to Video variable cannot be used because it is missing in all cases due to Video Release Date being missing in all cases."
   ]
  },
  {
   "cell_type": "code",
   "execution_count": 46,
   "metadata": {
    "collapsed": false
   },
   "outputs": [
    {
     "data": {
      "text/plain": [
       " 8434453636854775808    9932\n",
       " 8465989636854775808    8890\n",
       " 8371295236854775808    7078\n",
       " 8497525636854775808    6657\n",
       " 8623756036854775808    2360\n",
       " 8529148036854775808    2313\n",
       " 8592220036854775808    2092\n",
       " 8560684036854775808    1899\n",
       " 8718450436854775808    1552\n",
       " 8844680836854775808    1456\n",
       " 8781608836854775808    1267\n",
       " 8686914436854775808    1151\n",
       " 8939375236854775808    1114\n",
       " 8907839236854775808    1114\n",
       " 8876216836854775808    1003\n",
       " 9097141636854775808     981\n",
       " 8749986436854775808     920\n",
       " 8365074436854775808     919\n",
       " 8655378436854775808     908\n",
       " 8398943236854775808     844\n",
       " 8367493636854775808     828\n",
       " 9002447236854775808     818\n",
       " 9191836036854775808     782\n",
       " 8372332036854775808     752\n",
       " 8375356036854775808     736\n",
       " 8372936836854775808     714\n",
       " 9065605636854775808     679\n",
       " 8374751236854775808     651\n",
       " 8364469636854775808     644\n",
       "-9002447236854775808     640\n",
       "                        ... \n",
       " 8385810436854775808      10\n",
       " 0                         9\n",
       " 9028280836854775808       9\n",
       " 8381576836854775808       8\n",
       " 8331810436854775808       8\n",
       "-8923218436854775808       7\n",
       " 8338031236854775808       6\n",
       " 8389439236854775808       5\n",
       " 8350300036854775808       5\n",
       " 8365852036854775808       5\n",
       " 8360927236854775808       5\n",
       " 8337080836854775808       4\n",
       " 8361704836854775808       3\n",
       " 8315480836854775808       3\n",
       " 8359804036854775808       3\n",
       " 8443698436854775808       3\n",
       " 8380540036854775808       2\n",
       " 8334229636854775808       2\n",
       " 8379848836854775808       2\n",
       "-7834837636854775808       2\n",
       " 8394968836854775808       1\n",
       " 8380367236854775808       1\n",
       " 8397906436854775808       1\n",
       " 8708514436854775808       1\n",
       " 8385378436854775808       1\n",
       " 9188898436854775808       1\n",
       " 8336216836854775808       1\n",
       " 8377084036854775808       1\n",
       " 8361013636854775808       1\n",
       " 8391080836854775808       1\n",
       "Name: m_days_to_video, dtype: int64"
      ]
     },
     "execution_count": 46,
     "metadata": {},
     "output_type": "execute_result"
    }
   ],
   "source": [
    "# FREQ. TO CONFIRM RECODES\n",
    "mr['m_days_to_video'].value_counts(dropna=False)"
   ]
  },
  {
   "cell_type": "markdown",
   "metadata": {},
   "source": [
    "##### A cut point for GOOD RATING of 4+ = GOOD gives us a fairly balanced indicator."
   ]
  },
  {
   "cell_type": "code",
   "execution_count": 47,
   "metadata": {
    "collapsed": false
   },
   "outputs": [
    {
     "data": {
      "text/plain": [
       "1    55375\n",
       "0    44625\n",
       "Name: r_good_rating, dtype: int64"
      ]
     },
     "execution_count": 47,
     "metadata": {},
     "output_type": "execute_result"
    }
   ],
   "source": [
    "# FREQ. TO CONFIRM RECODES\n",
    "mr['r_good_rating'].value_counts(dropna=False)"
   ]
  },
  {
   "cell_type": "markdown",
   "metadata": {},
   "source": [
    "##### Our dataset contains an unbalanced number of Males to Females ~ 3 to 1."
   ]
  },
  {
   "cell_type": "code",
   "execution_count": 48,
   "metadata": {
    "collapsed": false
   },
   "outputs": [
    {
     "data": {
      "text/plain": [
       "1    74260\n",
       "0    25740\n",
       "Name: u_male, dtype: int64"
      ]
     },
     "execution_count": 48,
     "metadata": {},
     "output_type": "execute_result"
    }
   ],
   "source": [
    "mr['u_male'].value_counts(dropna=False)"
   ]
  },
  {
   "cell_type": "markdown",
   "metadata": {},
   "source": [
    "##### Records with NaN or outliere 971 will be dropped if m_release_year is included in the model."
   ]
  },
  {
   "cell_type": "code",
   "execution_count": 49,
   "metadata": {
    "collapsed": false
   },
   "outputs": [
    {
     "data": {
      "text/plain": [
       "1996    19708\n",
       "1997    17393\n",
       "1995    10499\n",
       "1994     8893\n",
       "1993     6657\n",
       "1989     2360\n",
       "1992     2313\n",
       "1990     2092\n",
       "1991     1899\n",
       "1986     1553\n",
       "1982     1456\n",
       "1984     1267\n",
       "1987     1151\n",
       "1979     1114\n",
       "1980     1114\n",
       "1981     1076\n",
       "1998      991\n",
       "1974      981\n",
       "1988      930\n",
       "1985      920\n",
       "1977      818\n",
       "1971      808\n",
       "1975      692\n",
       "1963      640\n",
       "1962      610\n",
       "1940      575\n",
       "1939      573\n",
       "1967      564\n",
       "1954      544\n",
       "1957      516\n",
       "        ...  \n",
       "1964      303\n",
       "1983      295\n",
       "1952      292\n",
       "1965      291\n",
       "1942      261\n",
       "1944      230\n",
       "1955      228\n",
       "1976      225\n",
       "1937      224\n",
       "1938      204\n",
       "1956      178\n",
       "1961      172\n",
       "1934      161\n",
       "1966      141\n",
       "1935      127\n",
       "1949       96\n",
       "1933       94\n",
       "1948       82\n",
       "1953       77\n",
       "1945       75\n",
       "1947       56\n",
       "1922       54\n",
       "1931       44\n",
       "1936       39\n",
       "1943       24\n",
       "1930       18\n",
       "1932       12\n",
       "NaN         9\n",
       "1926        2\n",
       "971         1\n",
       "Name: m_release_year, dtype: int64"
      ]
     },
     "execution_count": 49,
     "metadata": {},
     "output_type": "execute_result"
    }
   ],
   "source": [
    "mr['m_release_year'].value_counts(dropna=False)"
   ]
  },
  {
   "cell_type": "code",
   "execution_count": 50,
   "metadata": {
    "collapsed": false
   },
   "outputs": [
    {
     "data": {
      "text/plain": [
       "<matplotlib.text.Text at 0x2b787fb2d30>"
      ]
     },
     "execution_count": 50,
     "metadata": {},
     "output_type": "execute_result"
    },
    {
     "data": {
      "image/png": "[encoded data removed]",
      "text/plain": [
       "<matplotlib.figure.Figure at 0x2b787fcb160>"
      ]
     },
     "metadata": {},
     "output_type": "display_data"
    }
   ],
   "source": [
    "# histogram of age\n",
    "mr.u_age.hist()\n",
    "plt.title('Histogram of Rater Age')\n",
    "plt.xlabel('Rater Age')\n",
    "plt.ylabel('Frequency')"
   ]
  },
  {
   "cell_type": "code",
   "execution_count": 51,
   "metadata": {
    "collapsed": false
   },
   "outputs": [
    {
     "data": {
      "text/plain": [
       "100000"
      ]
     },
     "execution_count": 51,
     "metadata": {},
     "output_type": "execute_result"
    }
   ],
   "source": [
    "len(mr)"
   ]
  },
  {
   "cell_type": "code",
   "execution_count": 52,
   "metadata": {
    "collapsed": false
   },
   "outputs": [
    {
     "data": {
      "text/plain": [
       "25740"
      ]
     },
     "execution_count": 52,
     "metadata": {},
     "output_type": "execute_result"
    }
   ],
   "source": [
    "# Keep the variables to use for Logistic Regression in a new DataFrame\n",
    "\n",
    "# Variables Removed from Model: 'm_release_year',\n",
    "\n",
    "log_reg = mr[['r_good_rating',\n",
    "              'u_male','u_age',\n",
    "              'm_Action','m_Adventure','m_Animation','m_Children','m_Comedy',\n",
    "              'm_Crime','m_Documentary','m_Drama','m_Fantasy','m_Film_Noir',\n",
    "              'm_Horror','m_Musical','m_Mystery','m_Romance','m_Sci-Fi',\n",
    "              'm_Thriller','m_War','m_Western'\n",
    "             ]]\n",
    "\n",
    "# Only Keep records for 1 SEX for each trial\n",
    "log_reg = log_reg[log_reg['u_male'] == 0]\n",
    "# Drop SEX variable\n",
    "log_reg = log_reg.drop('u_male', axis=1)\n",
    "\n",
    "# Delete records with outliers or missing values\n",
    "#log_reg = log_reg[log_reg['m_release_year'].isin(['971']) == False]\n",
    "#log_reg = log_reg[pd.notnull(log_reg['m_release_year'])]\n",
    "\n",
    "len(log_reg)"
   ]
  },
  {
   "cell_type": "markdown",
   "metadata": {},
   "source": [
    "##### Create Training and Test sets (20/80 split)"
   ]
  },
  {
   "cell_type": "code",
   "execution_count": 53,
   "metadata": {
    "collapsed": false
   },
   "outputs": [
    {
     "name": "stdout",
     "output_type": "stream",
     "text": [
      "ShuffleSplit(n_splits=1000, random_state=None, test_size=0.2, train_size=None)\n"
     ]
    }
   ],
   "source": [
    "# Predict the y value based on the X values:\n",
    "if 'r_good_rating' in log_reg:\n",
    "    y = log_reg['r_good_rating'].values # get the labels we want\n",
    "    del log_reg['r_good_rating'] # get rid of the class label\n",
    "    X = log_reg.values # use everything else to predict!\n",
    "\n",
    "    ## X and y are now numpy matrices, by calling 'values' on the pandas data frames \n",
    "    #  they have been converted into simple matrices to use with scikit learn\n",
    "    \n",
    "    \n",
    "# to use the cross validation object in scikit learn, we need to grab an instance\n",
    "#    of the object and set it up. This object will be able to split our data into \n",
    "#    training and testing splits\n",
    "num_cv_iterations = 1000\n",
    "#num_cv_iterations = 100\n",
    "num_instances = len(y)\n",
    "cv_object = ShuffleSplit(n_splits  = num_cv_iterations,\n",
    "                         test_size = 0.2)\n",
    "                         \n",
    "print(cv_object)"
   ]
  },
  {
   "cell_type": "markdown",
   "metadata": {},
   "source": [
    "#### Logistic Regression\n",
    "\n",
    "##### Several Iterations were tried to train the model\n",
    "Average accuracy in 100 CV iterations:\n",
    "* u_male, u_age, m_release_year, + (All Genre indicators)              Accuracy = 0.5755\n",
    "It was decided to run Male/Female separately to examine the Weights of Genres with respect to Sex\n",
    "\n",
    "* (MALE/u_male=1), u_age, m_release_year, + (All Genre indicators)     Accuracy = 0.5801\n",
    "* (FEMALE/u_male=0), u_age, m_release_year, + (All Genre indicators)   Accuracy = 0.5681\n",
    "* (FEMALE/u_male=0), m_release_year, + (All Genre indicators)          Accuracy = 0.5664\n",
    "* (FEMALE/u_male=0), (All Genre indicators)                            Accuracy = 0.5697\n",
    "* (MALE/u_male=1), (All Genre indicators)                              Accuracy = 0.5778\n",
    "* (MALE/u_male=1), u_age, m_release_year                               Accuracy = 0.5526\n",
    "\n",
    "##### Final Models\n",
    "Average accuracy in 1000 CV iterations:\n",
    "* (MALE/u_male=1), u_age (All Genre indicators)                        Accuracy = 0.5809\n",
    "* (FEMALE/u_male=0), u_age (All Genre indicators)                      Accuracy = 0.5697\n"
   ]
  },
  {
   "cell_type": "code",
   "execution_count": 58,
   "metadata": {
    "collapsed": false
   },
   "outputs": [
    {
     "name": "stdout",
     "output_type": "stream",
     "text": [
      "Average accuracy in 1000 CV iterations:\n",
      "0.56947979798\n"
     ]
    }
   ],
   "source": [
    "# Create a reusable logisitic regression object\n",
    "#    here we can setup the object with different learning parameters and constants\n",
    "lr_clf = LogisticRegression(penalty='l2', C=1.0, class_weight=None) # get object\n",
    "\n",
    "# now we can use the cv_object that we setup before to iterate through the \n",
    "#    different training and testing sets. Each time we will reuse the logisitic regression \n",
    "#    object, but it gets trained on different data each time we use it.\n",
    "\n",
    "iter_num=0\n",
    "cv_accuracies = []\n",
    "# the indices are the rows used for training and testing in each iteration\n",
    "for train_indices, test_indices in cv_object.split(X,y): \n",
    "    # Create new variables here so that it is more obvious what the code is doing\n",
    "    X_train = X[train_indices]\n",
    "    y_train = y[train_indices]\n",
    "\n",
    "    X_test = X[test_indices]\n",
    "    y_test = y[test_indices]\n",
    "\n",
    "    # train the reusable logisitc regression model on the training data\n",
    "    lr_clf.fit(X_train,y_train)  # train object\n",
    "    y_hat = lr_clf.predict(X_test) # get test set precitions\n",
    "\n",
    "    # Create the accuracy and confusion matrix for this iterations of training/testing\n",
    "    acc  = mt.accuracy_score(y_test,y_hat)\n",
    "    conf = mt.confusion_matrix(y_test,y_hat)\n",
    "    #print(\"====Iteration\",iter_num,\" ====\")\n",
    "    #print(\"accuracy\", acc )\n",
    "    #print(\"confusion matrix\\n\",conf)\n",
    "    iter_num+=1\n",
    "    cv_accuracies.append(acc)\n",
    "\n",
    "print ('Average accuracy in ' + str(num_cv_iterations) + ' CV iterations:')\n",
    "print (sum(cv_accuracies)/len(cv_accuracies))"
   ]
  },
  {
   "cell_type": "markdown",
   "metadata": {},
   "source": [
    "#### Weights from Logistic Regression \n",
    "Interpret the importance of different features:\n",
    "\n",
    "* It was decided to split Male and Female into separate models to inspect the Genre weights with the thought that generally Males and Females would prefer different Genres of movies.\n",
    "* Release Year was modeled just with Age the Weight assigned to Release Year was: -0.0000253. Because of this and negative affect on the accuracy it was dropped from the final model.\n",
    "* Age in the final models were the lowest weights as expected because they are being multiplied against the User's Age instead of just a 1/0 indicator for the Genre indicators.\n",
    "    * The suprizing thing was the difference in weights for Age between Male/Female (0.0059/0.0004)\n",
    "* Genre Indicators are independent of each other because any movie can be in several genres.\n",
    "    * Some differences in Genres with respect to Sex:\n",
    "        * Drama (Male/Female) 0.436/0.286\n",
    "        * Musical (Male/Female) 0.003/0.207\n",
    "        * Mystery (Male/Female) 0.231/0.084\n",
    "        * Sci-Fi (Male/Female) 0.214/-0.008"
   ]
  },
  {
   "cell_type": "code",
   "execution_count": 59,
   "metadata": {
    "collapsed": false
   },
   "outputs": [
    {
     "name": "stdout",
     "output_type": "stream",
     "text": [
      "u_age has weight of 0.00167769214047\n",
      "m_Action has weight of -0.129843835169\n",
      "m_Adventure has weight of 0.172425344411\n",
      "m_Animation has weight of 0.469425661084\n",
      "m_Children has weight of -0.27319902276\n",
      "m_Comedy has weight of -0.13108171777\n",
      "m_Crime has weight of 0.0698453269219\n",
      "m_Documentary has weight of 0.282374534878\n",
      "m_Drama has weight of 0.318231832412\n",
      "m_Fantasy has weight of -0.395656661914\n",
      "m_Film_Noir has weight of 0.537590532711\n",
      "m_Horror has weight of -0.254543427122\n",
      "m_Musical has weight of 0.239418711157\n",
      "m_Mystery has weight of 0.082769502207\n",
      "m_Romance has weight of 0.233321715321\n",
      "m_Sci-Fi has weight of 0.0354987730872\n",
      "m_Thriller has weight of 0.0165178898087\n",
      "m_War has weight of 0.295290178326\n",
      "m_Western has weight of 0.231117358197\n"
     ]
    }
   ],
   "source": [
    "# Review the Weights\n",
    "\n",
    "# iterate over the coefficients\n",
    "weights = lr_clf.coef_.T # take transpose to make a column vector\n",
    "variable_names = log_reg.columns\n",
    "for coef, name in zip(weights,variable_names):\n",
    "    print(name, 'has weight of', coef[0])"
   ]
  },
  {
   "cell_type": "markdown",
   "metadata": {},
   "source": [
    "##### Use another Logistic Regression approach to display ROC Curve"
   ]
  },
  {
   "cell_type": "code",
   "execution_count": 60,
   "metadata": {
    "collapsed": false
   },
   "outputs": [
    {
     "data": {
      "text/plain": [
       "25740"
      ]
     },
     "execution_count": 60,
     "metadata": {},
     "output_type": "execute_result"
    }
   ],
   "source": [
    "# Keep the variables to use for Logistic Regression in a new DataFrame\n",
    "\n",
    "# Variables Removed from Model: 'm_release_year',\n",
    "\n",
    "log_reg2 = mr[['r_good_rating',\n",
    "               'u_male','u_age',\n",
    "               'm_Action','m_Adventure','m_Animation','m_Children','m_Comedy',\n",
    "               'm_Crime','m_Documentary','m_Drama','m_Fantasy','m_Film_Noir',\n",
    "               'm_Horror','m_Musical','m_Mystery','m_Romance','m_Sci-Fi',\n",
    "               'm_Thriller','m_War','m_Western'\n",
    "              ]]\n",
    "\n",
    "# Only Keep records for 1 SEX for each trial\n",
    "log_reg2 = log_reg2[log_reg2['u_male'] == 0]\n",
    "# Drop SEX variable\n",
    "log_reg2 = log_reg2.drop('u_male', axis=1)\n",
    "\n",
    "len(log_reg2)"
   ]
  },
  {
   "cell_type": "code",
   "execution_count": 63,
   "metadata": {
    "collapsed": false
   },
   "outputs": [
    {
     "name": "stdout",
     "output_type": "stream",
     "text": [
      "Base rate accuracy is 0.4404\n"
     ]
    },
    {
     "name": "stderr",
     "output_type": "stream",
     "text": [
      "C:\\Users\\runni\\Anaconda3\\lib\\site-packages\\sklearn\\cross_validation.py:44: DeprecationWarning: This module was deprecated in version 0.18 in favor of the model_selection module into which all the refactored classes and functions are moved. Also note that the interface of the new CV iterators are different from that of this module. This module will be removed in 0.20.\n",
      "  \"This module will be removed in 0.20.\", DeprecationWarning)\n"
     ]
    }
   ],
   "source": [
    "from sklearn.preprocessing import StandardScaler\n",
    "from sklearn.cross_validation import train_test_split\n",
    "from sklearn.metrics import accuracy_score\n",
    "\n",
    "y = log_reg2['r_good_rating']\n",
    "X = log_reg2.drop(['r_good_rating'], axis=1)\n",
    "\n",
    "scaler = StandardScaler()\n",
    "X = scaler.fit_transform(X)\n",
    "\n",
    "X_train, X_test, y_train, y_test = train_test_split(X, y, test_size=0.20, random_state=123)\n",
    "\n",
    "# Create a Base Rate Model\n",
    "def base_rate_model(X):\n",
    "    y = np.zeros(X.shape[0])\n",
    "    return y\n",
    "\n",
    "# Test Base Rate\n",
    "y_base_rate = base_rate_model(X_test)\n",
    "\n",
    "print(\"Base rate accuracy is %2.4f\" % accuracy_score(y_test, y_base_rate))"
   ]
  },
  {
   "cell_type": "code",
   "execution_count": 64,
   "metadata": {
    "collapsed": false
   },
   "outputs": [
    {
     "data": {
      "text/plain": [
       "LogisticRegression(C=1.0, class_weight=None, dual=False, fit_intercept=True,\n",
       "          intercept_scaling=1, max_iter=100, multi_class='ovr', n_jobs=1,\n",
       "          penalty='l2', random_state=None, solver='liblinear', tol=0.0001,\n",
       "          verbose=0, warm_start=False)"
      ]
     },
     "execution_count": 64,
     "metadata": {},
     "output_type": "execute_result"
    }
   ],
   "source": [
    "model2 = LogisticRegression(penalty='l2', C=1.0)\n",
    "\n",
    "model2.fit(X_train, y_train)"
   ]
  },
  {
   "cell_type": "markdown",
   "metadata": {},
   "source": [
    "##### Second Logistic Regression Method \n",
    "* (MALE/u_male=1), u_age (All Genre indicators)      Base Rate: 0.4528 / Accuracy = 0.5782\n",
    "* (FEMALE/u_male=0), u_age (All Genre indicators)    Base Rate: 0.4528 / Accuracy = 0.5782"
   ]
  },
  {
   "cell_type": "code",
   "execution_count": 67,
   "metadata": {
    "collapsed": false
   },
   "outputs": [
    {
     "name": "stdout",
     "output_type": "stream",
     "text": [
      "Logistic Regression Model2 Accuracy is 0.5703\n"
     ]
    }
   ],
   "source": [
    "print(\"Logistic Regression Model2 Accuracy is %2.4f\" % accuracy_score(y_test, model2.predict(X_test)))"
   ]
  },
  {
   "cell_type": "code",
   "execution_count": 68,
   "metadata": {
    "collapsed": false
   },
   "outputs": [
    {
     "name": "stdout",
     "output_type": "stream",
     "text": [
      "Logistic AUC = 0.54\n",
      "             precision    recall  f1-score   support\n",
      "\n",
      "          0       0.52      0.31      0.39      2267\n",
      "          1       0.59      0.77      0.67      2881\n",
      "\n",
      "avg / total       0.56      0.57      0.55      5148\n",
      "\n"
     ]
    }
   ],
   "source": [
    "from sklearn.metrics import roc_auc_score\n",
    "from sklearn.metrics import classification_report\n",
    "\n",
    "model2_roc_auc = roc_auc_score(y_test, model2.predict(X_test))\n",
    "print(\"Logistic AUC = %2.2f\" % model2_roc_auc)\n",
    "print(classification_report(y_test, model2.predict(X_test)))"
   ]
  },
  {
   "cell_type": "markdown",
   "metadata": {},
   "source": [
    "##### ROC Results from Logistic Regression 2 model\n",
    "The second method produced generally the same accuracy rate but we captured the Base Rate for a comparison point. \n",
    "The ROC Curve shows that the model does not perform very well as we want to get as close to the upper-left corner as possible."
   ]
  },
  {
   "cell_type": "code",
   "execution_count": 69,
   "metadata": {
    "collapsed": false
   },
   "outputs": [
    {
     "data": {
      "image/png": "[encoded data removed]",
      "text/plain": [
       "<matplotlib.figure.Figure at 0x2b7835b4b00>"
      ]
     },
     "metadata": {},
     "output_type": "display_data"
    }
   ],
   "source": [
    "from sklearn.metrics import roc_curve\n",
    "\n",
    "fpr, tpr, thresholds = roc_curve(y_test, model2.predict_proba(X_test)[:,1])\n",
    "\n",
    "# Plot ROC Curve\n",
    "plt.figure()\n",
    "plt.plot(fpr, tpr, label='ROC curve (Area Under Curve = %2.2f)' % model2_roc_auc)\n",
    "plt.plot([0, 1], [0, 1], 'k--')\n",
    "plt.xlim([0.0, 1.0])\n",
    "plt.ylim([0.0, 1.05])\n",
    "plt.xlabel('False Positive Rate')\n",
    "plt.ylabel('True Positive Rate')\n",
    "plt.title('ROC - Receiver Operating Characteristic')\n",
    "plt.legend(loc=\"lower right\")\n",
    "plt.show()\n",
    "\n",
    "\n",
    "\n",
    "\n",
    "\n"
   ]
  },
  {
   "cell_type": "markdown",
   "metadata": {
    "collapsed": true
   },
   "source": [
    "# Support Vector Machines"
   ]
  },
  {
   "cell_type": "code",
   "execution_count": 73,
   "metadata": {
    "collapsed": false
   },
   "outputs": [],
   "source": [
    "# We will use the same train and test validations used in the logistic regression for our support vector\n",
    "X_train_scaled = scaler.transform(X_train)\n",
    "X_test_scaled = scaler.transform(X_test)"
   ]
  },
  {
   "cell_type": "code",
   "execution_count": 79,
   "metadata": {
    "collapsed": false
   },
   "outputs": [
    {
     "name": "stdout",
     "output_type": "stream",
     "text": [
      "Accuracy of Model:  0.588578088578\n",
      "[[ 749 1518]\n",
      " [ 600 2281]]\n"
     ]
    }
   ],
   "source": [
    "from sklearn.svm import SVC\n",
    "\n",
    "#train the model\n",
    "svm_clf = SVC(C=0.5, kernel='rbf', degree = 3, gamma='auto')\n",
    "svm_clf.fit(X_train_scaled, y_train) # fit the object for training data\n",
    "\n",
    "y_hat = svm_clf.predict(X_test_scaled) # predictions of y using the test data\n",
    "\n",
    "acc = mt.accuracy_score(y_test,y_hat)\n",
    "conf = mt.confusion_matrix(y_test,y_hat)\n",
    "print('Accuracy of Model: ', acc)\n",
    "print(conf)"
   ]
  },
  {
   "cell_type": "code",
   "execution_count": 81,
   "metadata": {
    "collapsed": false
   },
   "outputs": [
    {
     "name": "stdout",
     "output_type": "stream",
     "text": [
      "(17084, 19)\n",
      "(17084,)\n",
      "[8489 8595]\n"
     ]
    }
   ],
   "source": [
    "print(svm_clf.support_vectors_.shape)\n",
    "print(svm_clf.support_.shape)\n",
    "print(svm_clf.n_support_)"
   ]
  },
  {
   "cell_type": "code",
   "execution_count": 104,
   "metadata": {
    "collapsed": false
   },
   "outputs": [
    {
     "name": "stderr",
     "output_type": "stream",
     "text": [
      "C:\\Users\\runni\\Anaconda3\\lib\\site-packages\\ipykernel\\__main__.py:4: SettingWithCopyWarning: \n",
      "A value is trying to be set on a copy of a slice from a DataFrame.\n",
      "Try using .loc[row_indexer,col_indexer] = value instead\n",
      "\n",
      "See the caveats in the documentation: http://pandas.pydata.org/pandas-docs/stable/indexing.html#indexing-view-versus-copy\n",
      "C:\\Users\\runni\\Anaconda3\\lib\\site-packages\\ipykernel\\__main__.py:7: SettingWithCopyWarning: \n",
      "A value is trying to be set on a copy of a slice from a DataFrame.\n",
      "Try using .loc[row_indexer,col_indexer] = value instead\n",
      "\n",
      "See the caveats in the documentation: http://pandas.pydata.org/pandas-docs/stable/indexing.html#indexing-view-versus-copy\n"
     ]
    },
    {
     "ename": "AttributeError",
     "evalue": "'DataFrame' object has no attribute 'type'",
     "output_type": "error",
     "traceback": [
      "\u001b[0;31m---------------------------------------------------------------------------\u001b[0m",
      "\u001b[0;31mAttributeError\u001b[0m                            Traceback (most recent call last)",
      "\u001b[0;32m<ipython-input-104-b874e671458c>\u001b[0m in \u001b[0;36m<module>\u001b[0;34m()\u001b[0m\n\u001b[1;32m      6\u001b[0m \u001b[1;33m\u001b[0m\u001b[0m\n\u001b[1;32m      7\u001b[0m \u001b[0mmr_support\u001b[0m\u001b[1;33m[\u001b[0m\u001b[1;34m'u_male'\u001b[0m\u001b[1;33m]\u001b[0m \u001b[1;33m=\u001b[0m \u001b[0mpd\u001b[0m\u001b[1;33m.\u001b[0m\u001b[0mto_numeric\u001b[0m\u001b[1;33m(\u001b[0m\u001b[0mmr_support\u001b[0m\u001b[1;33m[\u001b[0m\u001b[1;34m'u_male'\u001b[0m\u001b[1;33m]\u001b[0m\u001b[1;33m,\u001b[0m \u001b[0merrors\u001b[0m\u001b[1;33m=\u001b[0m\u001b[1;34m'coerce'\u001b[0m\u001b[1;33m)\u001b[0m\u001b[1;33m\u001b[0m\u001b[0m\n\u001b[0;32m----> 8\u001b[0;31m \u001b[0mmr_support\u001b[0m\u001b[1;33m.\u001b[0m\u001b[0mtype\u001b[0m\u001b[1;33m(\u001b[0m\u001b[1;33m)\u001b[0m\u001b[1;33m\u001b[0m\u001b[0m\n\u001b[0m\u001b[1;32m      9\u001b[0m \u001b[0mmr_support\u001b[0m\u001b[1;33m.\u001b[0m\u001b[0minfo\u001b[0m\u001b[1;33m(\u001b[0m\u001b[1;33m)\u001b[0m\u001b[1;33m\u001b[0m\u001b[0m\n",
      "\u001b[0;32mC:\\Users\\runni\\Anaconda3\\lib\\site-packages\\pandas\\core\\generic.py\u001b[0m in \u001b[0;36m__getattr__\u001b[0;34m(self, name)\u001b[0m\n\u001b[1;32m   2670\u001b[0m             \u001b[1;32mif\u001b[0m \u001b[0mname\u001b[0m \u001b[1;32min\u001b[0m \u001b[0mself\u001b[0m\u001b[1;33m.\u001b[0m\u001b[0m_info_axis\u001b[0m\u001b[1;33m:\u001b[0m\u001b[1;33m\u001b[0m\u001b[0m\n\u001b[1;32m   2671\u001b[0m                 \u001b[1;32mreturn\u001b[0m \u001b[0mself\u001b[0m\u001b[1;33m[\u001b[0m\u001b[0mname\u001b[0m\u001b[1;33m]\u001b[0m\u001b[1;33m\u001b[0m\u001b[0m\n\u001b[0;32m-> 2672\u001b[0;31m             \u001b[1;32mreturn\u001b[0m \u001b[0mobject\u001b[0m\u001b[1;33m.\u001b[0m\u001b[0m__getattribute__\u001b[0m\u001b[1;33m(\u001b[0m\u001b[0mself\u001b[0m\u001b[1;33m,\u001b[0m \u001b[0mname\u001b[0m\u001b[1;33m)\u001b[0m\u001b[1;33m\u001b[0m\u001b[0m\n\u001b[0m\u001b[1;32m   2673\u001b[0m \u001b[1;33m\u001b[0m\u001b[0m\n\u001b[1;32m   2674\u001b[0m     \u001b[1;32mdef\u001b[0m \u001b[0m__setattr__\u001b[0m\u001b[1;33m(\u001b[0m\u001b[0mself\u001b[0m\u001b[1;33m,\u001b[0m \u001b[0mname\u001b[0m\u001b[1;33m,\u001b[0m \u001b[0mvalue\u001b[0m\u001b[1;33m)\u001b[0m\u001b[1;33m:\u001b[0m\u001b[1;33m\u001b[0m\u001b[0m\n",
      "\u001b[0;31mAttributeError\u001b[0m: 'DataFrame' object has no attribute 'type'"
     ]
    }
   ],
   "source": [
    "mr_train = mr.iloc[train_indices]\n",
    "mr_support = rm_train.iloc[svm_clf.support_,:]\n",
    "\n",
    "mr_support['r_good_rating'] = y[svm_clf.support_]\n",
    "mr['r_good_rating'] = y\n",
    "\n",
    "mr_support['u_male'] = pd.to_numeric(mr_support['u_male'], errors='coerce')\n",
    "mr_support.type()\n",
    "mr_support.info()"
   ]
  },
  {
   "cell_type": "code",
   "execution_count": 101,
   "metadata": {
    "collapsed": false
   },
   "outputs": [
    {
     "name": "stderr",
     "output_type": "stream",
     "text": [
      "C:\\Users\\runni\\Anaconda3\\lib\\site-packages\\matplotlib\\legend.py:633: UserWarning: Legend does not support 'B' instances.\n",
      "A proxy artist may be used instead.\n",
      "See: http://matplotlib.org/users/legend_guide.html#using-proxy-artist\n",
      "  \"#using-proxy-artist\".format(orig_handle)\n",
      "C:\\Users\\runni\\Anaconda3\\lib\\site-packages\\matplotlib\\legend.py:633: UserWarning: Legend does not support 'a' instances.\n",
      "A proxy artist may be used instead.\n",
      "See: http://matplotlib.org/users/legend_guide.html#using-proxy-artist\n",
      "  \"#using-proxy-artist\".format(orig_handle)\n",
      "C:\\Users\\runni\\Anaconda3\\lib\\site-packages\\matplotlib\\legend.py:633: UserWarning: Legend does not support 'd' instances.\n",
      "A proxy artist may be used instead.\n",
      "See: http://matplotlib.org/users/legend_guide.html#using-proxy-artist\n",
      "  \"#using-proxy-artist\".format(orig_handle)\n",
      "C:\\Users\\runni\\Anaconda3\\lib\\site-packages\\matplotlib\\legend.py:633: UserWarning: Legend does not support '_' instances.\n",
      "A proxy artist may be used instead.\n",
      "See: http://matplotlib.org/users/legend_guide.html#using-proxy-artist\n",
      "  \"#using-proxy-artist\".format(orig_handle)\n",
      "C:\\Users\\runni\\Anaconda3\\lib\\site-packages\\matplotlib\\legend.py:633: UserWarning: Legend does not support 'R' instances.\n",
      "A proxy artist may be used instead.\n",
      "See: http://matplotlib.org/users/legend_guide.html#using-proxy-artist\n",
      "  \"#using-proxy-artist\".format(orig_handle)\n",
      "C:\\Users\\runni\\Anaconda3\\lib\\site-packages\\matplotlib\\legend.py:633: UserWarning: Legend does not support 't' instances.\n",
      "A proxy artist may be used instead.\n",
      "See: http://matplotlib.org/users/legend_guide.html#using-proxy-artist\n",
      "  \"#using-proxy-artist\".format(orig_handle)\n",
      "C:\\Users\\runni\\Anaconda3\\lib\\site-packages\\matplotlib\\legend.py:633: UserWarning: Legend does not support 'i' instances.\n",
      "A proxy artist may be used instead.\n",
      "See: http://matplotlib.org/users/legend_guide.html#using-proxy-artist\n",
      "  \"#using-proxy-artist\".format(orig_handle)\n",
      "C:\\Users\\runni\\Anaconda3\\lib\\site-packages\\matplotlib\\legend.py:633: UserWarning: Legend does not support 'n' instances.\n",
      "A proxy artist may be used instead.\n",
      "See: http://matplotlib.org/users/legend_guide.html#using-proxy-artist\n",
      "  \"#using-proxy-artist\".format(orig_handle)\n",
      "C:\\Users\\runni\\Anaconda3\\lib\\site-packages\\matplotlib\\legend.py:633: UserWarning: Legend does not support 'g' instances.\n",
      "A proxy artist may be used instead.\n",
      "See: http://matplotlib.org/users/legend_guide.html#using-proxy-artist\n",
      "  \"#using-proxy-artist\".format(orig_handle)\n"
     ]
    },
    {
     "ename": "LinAlgError",
     "evalue": "singular matrix",
     "output_type": "error",
     "traceback": [
      "\u001b[0;31m---------------------------------------------------------------------------\u001b[0m",
      "\u001b[0;31mLinAlgError\u001b[0m                               Traceback (most recent call last)",
      "\u001b[0;32m<ipython-input-101-d901ffc1d1fd>\u001b[0m in \u001b[0;36m<module>\u001b[0;34m()\u001b[0m\n\u001b[1;32m     10\u001b[0m     \u001b[0mplt\u001b[0m\u001b[1;33m.\u001b[0m\u001b[0mfigure\u001b[0m\u001b[1;33m(\u001b[0m\u001b[0mfigsize\u001b[0m\u001b[1;33m=\u001b[0m\u001b[1;33m(\u001b[0m\u001b[1;36m10\u001b[0m\u001b[1;33m,\u001b[0m\u001b[1;36m4\u001b[0m\u001b[1;33m)\u001b[0m\u001b[1;33m)\u001b[0m\u001b[1;33m\u001b[0m\u001b[0m\n\u001b[1;32m     11\u001b[0m     \u001b[0mplt\u001b[0m\u001b[1;33m.\u001b[0m\u001b[0msubplot\u001b[0m\u001b[1;33m(\u001b[0m\u001b[1;36m1\u001b[0m\u001b[1;33m,\u001b[0m\u001b[1;36m2\u001b[0m\u001b[1;33m,\u001b[0m\u001b[1;36m1\u001b[0m\u001b[1;33m)\u001b[0m\u001b[1;33m\u001b[0m\u001b[0m\n\u001b[0;32m---> 12\u001b[0;31m     \u001b[0max\u001b[0m \u001b[1;33m=\u001b[0m \u001b[0mmr_grouped_support\u001b[0m\u001b[1;33m[\u001b[0m\u001b[0mv\u001b[0m\u001b[1;33m]\u001b[0m\u001b[1;33m.\u001b[0m\u001b[0mplot\u001b[0m\u001b[1;33m.\u001b[0m\u001b[0mkde\u001b[0m\u001b[1;33m(\u001b[0m\u001b[1;33m)\u001b[0m\u001b[1;33m\u001b[0m\u001b[0m\n\u001b[0m\u001b[1;32m     13\u001b[0m     \u001b[0mplt\u001b[0m\u001b[1;33m.\u001b[0m\u001b[0mlegend\u001b[0m\u001b[1;33m(\u001b[0m\u001b[1;34m'Bad_Rating'\u001b[0m\u001b[1;33m,\u001b[0m\u001b[1;34m'Good_Rating'\u001b[0m\u001b[1;33m)\u001b[0m\u001b[1;33m\u001b[0m\u001b[0m\n\u001b[1;32m     14\u001b[0m     \u001b[0mplt\u001b[0m\u001b[1;33m.\u001b[0m\u001b[0mtitle\u001b[0m\u001b[1;33m(\u001b[0m\u001b[0mv\u001b[0m\u001b[1;33m+\u001b[0m\u001b[1;34m' Support Vectors'\u001b[0m\u001b[1;33m)\u001b[0m\u001b[1;33m\u001b[0m\u001b[0m\n",
      "\u001b[0;32mC:\\Users\\runni\\Anaconda3\\lib\\site-packages\\pandas\\core\\groupby.py\u001b[0m in \u001b[0;36mattr\u001b[0;34m(*args, **kwargs)\u001b[0m\n\u001b[1;32m    315\u001b[0m             \u001b[1;32mdef\u001b[0m \u001b[0mf\u001b[0m\u001b[1;33m(\u001b[0m\u001b[0mself\u001b[0m\u001b[1;33m)\u001b[0m\u001b[1;33m:\u001b[0m\u001b[1;33m\u001b[0m\u001b[0m\n\u001b[1;32m    316\u001b[0m                 \u001b[1;32mreturn\u001b[0m \u001b[0mgetattr\u001b[0m\u001b[1;33m(\u001b[0m\u001b[0mself\u001b[0m\u001b[1;33m.\u001b[0m\u001b[0mplot\u001b[0m\u001b[1;33m,\u001b[0m \u001b[0mname\u001b[0m\u001b[1;33m)\u001b[0m\u001b[1;33m(\u001b[0m\u001b[1;33m*\u001b[0m\u001b[0margs\u001b[0m\u001b[1;33m,\u001b[0m \u001b[1;33m**\u001b[0m\u001b[0mkwargs\u001b[0m\u001b[1;33m)\u001b[0m\u001b[1;33m\u001b[0m\u001b[0m\n\u001b[0;32m--> 317\u001b[0;31m             \u001b[1;32mreturn\u001b[0m \u001b[0mself\u001b[0m\u001b[1;33m.\u001b[0m\u001b[0m_groupby\u001b[0m\u001b[1;33m.\u001b[0m\u001b[0mapply\u001b[0m\u001b[1;33m(\u001b[0m\u001b[0mf\u001b[0m\u001b[1;33m)\u001b[0m\u001b[1;33m\u001b[0m\u001b[0m\n\u001b[0m\u001b[1;32m    318\u001b[0m         \u001b[1;32mreturn\u001b[0m \u001b[0mattr\u001b[0m\u001b[1;33m\u001b[0m\u001b[0m\n\u001b[1;32m    319\u001b[0m \u001b[1;33m\u001b[0m\u001b[0m\n",
      "\u001b[0;32mC:\\Users\\runni\\Anaconda3\\lib\\site-packages\\pandas\\core\\groupby.py\u001b[0m in \u001b[0;36mapply\u001b[0;34m(self, func, *args, **kwargs)\u001b[0m\n\u001b[1;32m    649\u001b[0m         \u001b[1;31m# ignore SettingWithCopy here in case the user mutates\u001b[0m\u001b[1;33m\u001b[0m\u001b[1;33m\u001b[0m\u001b[0m\n\u001b[1;32m    650\u001b[0m         \u001b[1;32mwith\u001b[0m \u001b[0moption_context\u001b[0m\u001b[1;33m(\u001b[0m\u001b[1;34m'mode.chained_assignment'\u001b[0m\u001b[1;33m,\u001b[0m \u001b[1;32mNone\u001b[0m\u001b[1;33m)\u001b[0m\u001b[1;33m:\u001b[0m\u001b[1;33m\u001b[0m\u001b[0m\n\u001b[0;32m--> 651\u001b[0;31m             \u001b[1;32mreturn\u001b[0m \u001b[0mself\u001b[0m\u001b[1;33m.\u001b[0m\u001b[0m_python_apply_general\u001b[0m\u001b[1;33m(\u001b[0m\u001b[0mf\u001b[0m\u001b[1;33m)\u001b[0m\u001b[1;33m\u001b[0m\u001b[0m\n\u001b[0m\u001b[1;32m    652\u001b[0m \u001b[1;33m\u001b[0m\u001b[0m\n\u001b[1;32m    653\u001b[0m     \u001b[1;32mdef\u001b[0m \u001b[0m_python_apply_general\u001b[0m\u001b[1;33m(\u001b[0m\u001b[0mself\u001b[0m\u001b[1;33m,\u001b[0m \u001b[0mf\u001b[0m\u001b[1;33m)\u001b[0m\u001b[1;33m:\u001b[0m\u001b[1;33m\u001b[0m\u001b[0m\n",
      "\u001b[0;32mC:\\Users\\runni\\Anaconda3\\lib\\site-packages\\pandas\\core\\groupby.py\u001b[0m in \u001b[0;36m_python_apply_general\u001b[0;34m(self, f)\u001b[0m\n\u001b[1;32m    653\u001b[0m     \u001b[1;32mdef\u001b[0m \u001b[0m_python_apply_general\u001b[0m\u001b[1;33m(\u001b[0m\u001b[0mself\u001b[0m\u001b[1;33m,\u001b[0m \u001b[0mf\u001b[0m\u001b[1;33m)\u001b[0m\u001b[1;33m:\u001b[0m\u001b[1;33m\u001b[0m\u001b[0m\n\u001b[1;32m    654\u001b[0m         keys, values, mutated = self.grouper.apply(f, self._selected_obj,\n\u001b[0;32m--> 655\u001b[0;31m                                                    self.axis)\n\u001b[0m\u001b[1;32m    656\u001b[0m \u001b[1;33m\u001b[0m\u001b[0m\n\u001b[1;32m    657\u001b[0m         return self._wrap_applied_output(\n",
      "\u001b[0;32mC:\\Users\\runni\\Anaconda3\\lib\\site-packages\\pandas\\core\\groupby.py\u001b[0m in \u001b[0;36mapply\u001b[0;34m(self, f, data, axis)\u001b[0m\n\u001b[1;32m   1525\u001b[0m             \u001b[1;31m# group might be modified\u001b[0m\u001b[1;33m\u001b[0m\u001b[1;33m\u001b[0m\u001b[0m\n\u001b[1;32m   1526\u001b[0m             \u001b[0mgroup_axes\u001b[0m \u001b[1;33m=\u001b[0m \u001b[0m_get_axes\u001b[0m\u001b[1;33m(\u001b[0m\u001b[0mgroup\u001b[0m\u001b[1;33m)\u001b[0m\u001b[1;33m\u001b[0m\u001b[0m\n\u001b[0;32m-> 1527\u001b[0;31m             \u001b[0mres\u001b[0m \u001b[1;33m=\u001b[0m \u001b[0mf\u001b[0m\u001b[1;33m(\u001b[0m\u001b[0mgroup\u001b[0m\u001b[1;33m)\u001b[0m\u001b[1;33m\u001b[0m\u001b[0m\n\u001b[0m\u001b[1;32m   1528\u001b[0m             \u001b[1;32mif\u001b[0m \u001b[1;32mnot\u001b[0m \u001b[0m_is_indexed_like\u001b[0m\u001b[1;33m(\u001b[0m\u001b[0mres\u001b[0m\u001b[1;33m,\u001b[0m \u001b[0mgroup_axes\u001b[0m\u001b[1;33m)\u001b[0m\u001b[1;33m:\u001b[0m\u001b[1;33m\u001b[0m\u001b[0m\n\u001b[1;32m   1529\u001b[0m                 \u001b[0mmutated\u001b[0m \u001b[1;33m=\u001b[0m \u001b[1;32mTrue\u001b[0m\u001b[1;33m\u001b[0m\u001b[0m\n",
      "\u001b[0;32mC:\\Users\\runni\\Anaconda3\\lib\\site-packages\\pandas\\core\\groupby.py\u001b[0m in \u001b[0;36mf\u001b[0;34m(g)\u001b[0m\n\u001b[1;32m    645\u001b[0m         \u001b[1;33m@\u001b[0m\u001b[0mwraps\u001b[0m\u001b[1;33m(\u001b[0m\u001b[0mfunc\u001b[0m\u001b[1;33m)\u001b[0m\u001b[1;33m\u001b[0m\u001b[0m\n\u001b[1;32m    646\u001b[0m         \u001b[1;32mdef\u001b[0m \u001b[0mf\u001b[0m\u001b[1;33m(\u001b[0m\u001b[0mg\u001b[0m\u001b[1;33m)\u001b[0m\u001b[1;33m:\u001b[0m\u001b[1;33m\u001b[0m\u001b[0m\n\u001b[0;32m--> 647\u001b[0;31m             \u001b[1;32mreturn\u001b[0m \u001b[0mfunc\u001b[0m\u001b[1;33m(\u001b[0m\u001b[0mg\u001b[0m\u001b[1;33m,\u001b[0m \u001b[1;33m*\u001b[0m\u001b[0margs\u001b[0m\u001b[1;33m,\u001b[0m \u001b[1;33m**\u001b[0m\u001b[0mkwargs\u001b[0m\u001b[1;33m)\u001b[0m\u001b[1;33m\u001b[0m\u001b[0m\n\u001b[0m\u001b[1;32m    648\u001b[0m \u001b[1;33m\u001b[0m\u001b[0m\n\u001b[1;32m    649\u001b[0m         \u001b[1;31m# ignore SettingWithCopy here in case the user mutates\u001b[0m\u001b[1;33m\u001b[0m\u001b[1;33m\u001b[0m\u001b[0m\n",
      "\u001b[0;32mC:\\Users\\runni\\Anaconda3\\lib\\site-packages\\pandas\\core\\groupby.py\u001b[0m in \u001b[0;36mf\u001b[0;34m(self)\u001b[0m\n\u001b[1;32m    314\u001b[0m         \u001b[1;32mdef\u001b[0m \u001b[0mattr\u001b[0m\u001b[1;33m(\u001b[0m\u001b[1;33m*\u001b[0m\u001b[0margs\u001b[0m\u001b[1;33m,\u001b[0m \u001b[1;33m**\u001b[0m\u001b[0mkwargs\u001b[0m\u001b[1;33m)\u001b[0m\u001b[1;33m:\u001b[0m\u001b[1;33m\u001b[0m\u001b[0m\n\u001b[1;32m    315\u001b[0m             \u001b[1;32mdef\u001b[0m \u001b[0mf\u001b[0m\u001b[1;33m(\u001b[0m\u001b[0mself\u001b[0m\u001b[1;33m)\u001b[0m\u001b[1;33m:\u001b[0m\u001b[1;33m\u001b[0m\u001b[0m\n\u001b[0;32m--> 316\u001b[0;31m                 \u001b[1;32mreturn\u001b[0m \u001b[0mgetattr\u001b[0m\u001b[1;33m(\u001b[0m\u001b[0mself\u001b[0m\u001b[1;33m.\u001b[0m\u001b[0mplot\u001b[0m\u001b[1;33m,\u001b[0m \u001b[0mname\u001b[0m\u001b[1;33m)\u001b[0m\u001b[1;33m(\u001b[0m\u001b[1;33m*\u001b[0m\u001b[0margs\u001b[0m\u001b[1;33m,\u001b[0m \u001b[1;33m**\u001b[0m\u001b[0mkwargs\u001b[0m\u001b[1;33m)\u001b[0m\u001b[1;33m\u001b[0m\u001b[0m\n\u001b[0m\u001b[1;32m    317\u001b[0m             \u001b[1;32mreturn\u001b[0m \u001b[0mself\u001b[0m\u001b[1;33m.\u001b[0m\u001b[0m_groupby\u001b[0m\u001b[1;33m.\u001b[0m\u001b[0mapply\u001b[0m\u001b[1;33m(\u001b[0m\u001b[0mf\u001b[0m\u001b[1;33m)\u001b[0m\u001b[1;33m\u001b[0m\u001b[0m\n\u001b[1;32m    318\u001b[0m         \u001b[1;32mreturn\u001b[0m \u001b[0mattr\u001b[0m\u001b[1;33m\u001b[0m\u001b[0m\n",
      "\u001b[0;32mC:\\Users\\runni\\Anaconda3\\lib\\site-packages\\pandas\\tools\\plotting.py\u001b[0m in \u001b[0;36mkde\u001b[0;34m(self, **kwds)\u001b[0m\n\u001b[1;32m   3669\u001b[0m         \u001b[0maxes\u001b[0m \u001b[1;33m:\u001b[0m \u001b[0mmatplotlib\u001b[0m\u001b[1;33m.\u001b[0m\u001b[0mAxesSubplot\u001b[0m \u001b[1;32mor\u001b[0m \u001b[0mnp\u001b[0m\u001b[1;33m.\u001b[0m\u001b[0marray\u001b[0m \u001b[0mof\u001b[0m \u001b[0mthem\u001b[0m\u001b[1;33m\u001b[0m\u001b[0m\n\u001b[1;32m   3670\u001b[0m         \"\"\"\n\u001b[0;32m-> 3671\u001b[0;31m         \u001b[1;32mreturn\u001b[0m \u001b[0mself\u001b[0m\u001b[1;33m(\u001b[0m\u001b[0mkind\u001b[0m\u001b[1;33m=\u001b[0m\u001b[1;34m'kde'\u001b[0m\u001b[1;33m,\u001b[0m \u001b[1;33m**\u001b[0m\u001b[0mkwds\u001b[0m\u001b[1;33m)\u001b[0m\u001b[1;33m\u001b[0m\u001b[0m\n\u001b[0m\u001b[1;32m   3672\u001b[0m \u001b[1;33m\u001b[0m\u001b[0m\n\u001b[1;32m   3673\u001b[0m     \u001b[0mdensity\u001b[0m \u001b[1;33m=\u001b[0m \u001b[0mkde\u001b[0m\u001b[1;33m\u001b[0m\u001b[0m\n",
      "\u001b[0;32mC:\\Users\\runni\\Anaconda3\\lib\\site-packages\\pandas\\tools\\plotting.py\u001b[0m in \u001b[0;36m__call__\u001b[0;34m(self, kind, ax, figsize, use_index, title, grid, legend, style, logx, logy, loglog, xticks, yticks, xlim, ylim, rot, fontsize, colormap, table, yerr, xerr, label, secondary_y, **kwds)\u001b[0m\n\u001b[1;32m   3564\u001b[0m                            \u001b[0mcolormap\u001b[0m\u001b[1;33m=\u001b[0m\u001b[0mcolormap\u001b[0m\u001b[1;33m,\u001b[0m \u001b[0mtable\u001b[0m\u001b[1;33m=\u001b[0m\u001b[0mtable\u001b[0m\u001b[1;33m,\u001b[0m \u001b[0myerr\u001b[0m\u001b[1;33m=\u001b[0m\u001b[0myerr\u001b[0m\u001b[1;33m,\u001b[0m\u001b[1;33m\u001b[0m\u001b[0m\n\u001b[1;32m   3565\u001b[0m                            \u001b[0mxerr\u001b[0m\u001b[1;33m=\u001b[0m\u001b[0mxerr\u001b[0m\u001b[1;33m,\u001b[0m \u001b[0mlabel\u001b[0m\u001b[1;33m=\u001b[0m\u001b[0mlabel\u001b[0m\u001b[1;33m,\u001b[0m \u001b[0msecondary_y\u001b[0m\u001b[1;33m=\u001b[0m\u001b[0msecondary_y\u001b[0m\u001b[1;33m,\u001b[0m\u001b[1;33m\u001b[0m\u001b[0m\n\u001b[0;32m-> 3566\u001b[0;31m                            **kwds)\n\u001b[0m\u001b[1;32m   3567\u001b[0m     \u001b[0m__call__\u001b[0m\u001b[1;33m.\u001b[0m\u001b[0m__doc__\u001b[0m \u001b[1;33m=\u001b[0m \u001b[0mplot_series\u001b[0m\u001b[1;33m.\u001b[0m\u001b[0m__doc__\u001b[0m\u001b[1;33m\u001b[0m\u001b[0m\n\u001b[1;32m   3568\u001b[0m \u001b[1;33m\u001b[0m\u001b[0m\n",
      "\u001b[0;32mC:\\Users\\runni\\Anaconda3\\lib\\site-packages\\pandas\\tools\\plotting.py\u001b[0m in \u001b[0;36mplot_series\u001b[0;34m(data, kind, ax, figsize, use_index, title, grid, legend, style, logx, logy, loglog, xticks, yticks, xlim, ylim, rot, fontsize, colormap, table, yerr, xerr, label, secondary_y, **kwds)\u001b[0m\n\u001b[1;32m   2643\u001b[0m                  \u001b[0myerr\u001b[0m\u001b[1;33m=\u001b[0m\u001b[0myerr\u001b[0m\u001b[1;33m,\u001b[0m \u001b[0mxerr\u001b[0m\u001b[1;33m=\u001b[0m\u001b[0mxerr\u001b[0m\u001b[1;33m,\u001b[0m\u001b[1;33m\u001b[0m\u001b[0m\n\u001b[1;32m   2644\u001b[0m                  \u001b[0mlabel\u001b[0m\u001b[1;33m=\u001b[0m\u001b[0mlabel\u001b[0m\u001b[1;33m,\u001b[0m \u001b[0msecondary_y\u001b[0m\u001b[1;33m=\u001b[0m\u001b[0msecondary_y\u001b[0m\u001b[1;33m,\u001b[0m\u001b[1;33m\u001b[0m\u001b[0m\n\u001b[0;32m-> 2645\u001b[0;31m                  **kwds)\n\u001b[0m\u001b[1;32m   2646\u001b[0m \u001b[1;33m\u001b[0m\u001b[0m\n\u001b[1;32m   2647\u001b[0m \u001b[1;33m\u001b[0m\u001b[0m\n",
      "\u001b[0;32mC:\\Users\\runni\\Anaconda3\\lib\\site-packages\\pandas\\tools\\plotting.py\u001b[0m in \u001b[0;36m_plot\u001b[0;34m(data, x, y, subplots, ax, kind, **kwds)\u001b[0m\n\u001b[1;32m   2439\u001b[0m         \u001b[0mplot_obj\u001b[0m \u001b[1;33m=\u001b[0m \u001b[0mklass\u001b[0m\u001b[1;33m(\u001b[0m\u001b[0mdata\u001b[0m\u001b[1;33m,\u001b[0m \u001b[0msubplots\u001b[0m\u001b[1;33m=\u001b[0m\u001b[0msubplots\u001b[0m\u001b[1;33m,\u001b[0m \u001b[0max\u001b[0m\u001b[1;33m=\u001b[0m\u001b[0max\u001b[0m\u001b[1;33m,\u001b[0m \u001b[0mkind\u001b[0m\u001b[1;33m=\u001b[0m\u001b[0mkind\u001b[0m\u001b[1;33m,\u001b[0m \u001b[1;33m**\u001b[0m\u001b[0mkwds\u001b[0m\u001b[1;33m)\u001b[0m\u001b[1;33m\u001b[0m\u001b[0m\n\u001b[1;32m   2440\u001b[0m \u001b[1;33m\u001b[0m\u001b[0m\n\u001b[0;32m-> 2441\u001b[0;31m     \u001b[0mplot_obj\u001b[0m\u001b[1;33m.\u001b[0m\u001b[0mgenerate\u001b[0m\u001b[1;33m(\u001b[0m\u001b[1;33m)\u001b[0m\u001b[1;33m\u001b[0m\u001b[0m\n\u001b[0m\u001b[1;32m   2442\u001b[0m     \u001b[0mplot_obj\u001b[0m\u001b[1;33m.\u001b[0m\u001b[0mdraw\u001b[0m\u001b[1;33m(\u001b[0m\u001b[1;33m)\u001b[0m\u001b[1;33m\u001b[0m\u001b[0m\n\u001b[1;32m   2443\u001b[0m     \u001b[1;32mreturn\u001b[0m \u001b[0mplot_obj\u001b[0m\u001b[1;33m.\u001b[0m\u001b[0mresult\u001b[0m\u001b[1;33m\u001b[0m\u001b[0m\n",
      "\u001b[0;32mC:\\Users\\runni\\Anaconda3\\lib\\site-packages\\pandas\\tools\\plotting.py\u001b[0m in \u001b[0;36mgenerate\u001b[0;34m(self)\u001b[0m\n\u001b[1;32m   1026\u001b[0m         \u001b[0mself\u001b[0m\u001b[1;33m.\u001b[0m\u001b[0m_compute_plot_data\u001b[0m\u001b[1;33m(\u001b[0m\u001b[1;33m)\u001b[0m\u001b[1;33m\u001b[0m\u001b[0m\n\u001b[1;32m   1027\u001b[0m         \u001b[0mself\u001b[0m\u001b[1;33m.\u001b[0m\u001b[0m_setup_subplots\u001b[0m\u001b[1;33m(\u001b[0m\u001b[1;33m)\u001b[0m\u001b[1;33m\u001b[0m\u001b[0m\n\u001b[0;32m-> 1028\u001b[0;31m         \u001b[0mself\u001b[0m\u001b[1;33m.\u001b[0m\u001b[0m_make_plot\u001b[0m\u001b[1;33m(\u001b[0m\u001b[1;33m)\u001b[0m\u001b[1;33m\u001b[0m\u001b[0m\n\u001b[0m\u001b[1;32m   1029\u001b[0m         \u001b[0mself\u001b[0m\u001b[1;33m.\u001b[0m\u001b[0m_add_table\u001b[0m\u001b[1;33m(\u001b[0m\u001b[1;33m)\u001b[0m\u001b[1;33m\u001b[0m\u001b[0m\n\u001b[1;32m   1030\u001b[0m         \u001b[0mself\u001b[0m\u001b[1;33m.\u001b[0m\u001b[0m_make_legend\u001b[0m\u001b[1;33m(\u001b[0m\u001b[1;33m)\u001b[0m\u001b[1;33m\u001b[0m\u001b[0m\n",
      "\u001b[0;32mC:\\Users\\runni\\Anaconda3\\lib\\site-packages\\pandas\\tools\\plotting.py\u001b[0m in \u001b[0;36m_make_plot\u001b[0;34m(self)\u001b[0m\n\u001b[1;32m   2071\u001b[0m             \u001b[0mkwds\u001b[0m \u001b[1;33m=\u001b[0m \u001b[0mself\u001b[0m\u001b[1;33m.\u001b[0m\u001b[0m_make_plot_keywords\u001b[0m\u001b[1;33m(\u001b[0m\u001b[0mkwds\u001b[0m\u001b[1;33m,\u001b[0m \u001b[0my\u001b[0m\u001b[1;33m)\u001b[0m\u001b[1;33m\u001b[0m\u001b[0m\n\u001b[1;32m   2072\u001b[0m             artists = self._plot(ax, y, column_num=i,\n\u001b[0;32m-> 2073\u001b[0;31m                                  stacking_id=stacking_id, **kwds)\n\u001b[0m\u001b[1;32m   2074\u001b[0m             \u001b[0mself\u001b[0m\u001b[1;33m.\u001b[0m\u001b[0m_add_legend_handle\u001b[0m\u001b[1;33m(\u001b[0m\u001b[0martists\u001b[0m\u001b[1;33m[\u001b[0m\u001b[1;36m0\u001b[0m\u001b[1;33m]\u001b[0m\u001b[1;33m,\u001b[0m \u001b[0mlabel\u001b[0m\u001b[1;33m,\u001b[0m \u001b[0mindex\u001b[0m\u001b[1;33m=\u001b[0m\u001b[0mi\u001b[0m\u001b[1;33m)\u001b[0m\u001b[1;33m\u001b[0m\u001b[0m\n\u001b[1;32m   2075\u001b[0m \u001b[1;33m\u001b[0m\u001b[0m\n",
      "\u001b[0;32mC:\\Users\\runni\\Anaconda3\\lib\\site-packages\\pandas\\tools\\plotting.py\u001b[0m in \u001b[0;36m_plot\u001b[0;34m(cls, ax, y, style, bw_method, ind, column_num, stacking_id, **kwds)\u001b[0m\n\u001b[1;32m   2125\u001b[0m \u001b[1;33m\u001b[0m\u001b[0m\n\u001b[1;32m   2126\u001b[0m         \u001b[1;32mif\u001b[0m \u001b[0mLooseVersion\u001b[0m\u001b[1;33m(\u001b[0m\u001b[0mspv\u001b[0m\u001b[1;33m)\u001b[0m \u001b[1;33m>=\u001b[0m \u001b[1;34m'0.11.0'\u001b[0m\u001b[1;33m:\u001b[0m\u001b[1;33m\u001b[0m\u001b[0m\n\u001b[0;32m-> 2127\u001b[0;31m             \u001b[0mgkde\u001b[0m \u001b[1;33m=\u001b[0m \u001b[0mgaussian_kde\u001b[0m\u001b[1;33m(\u001b[0m\u001b[0my\u001b[0m\u001b[1;33m,\u001b[0m \u001b[0mbw_method\u001b[0m\u001b[1;33m=\u001b[0m\u001b[0mbw_method\u001b[0m\u001b[1;33m)\u001b[0m\u001b[1;33m\u001b[0m\u001b[0m\n\u001b[0m\u001b[1;32m   2128\u001b[0m         \u001b[1;32melse\u001b[0m\u001b[1;33m:\u001b[0m\u001b[1;33m\u001b[0m\u001b[0m\n\u001b[1;32m   2129\u001b[0m             \u001b[0mgkde\u001b[0m \u001b[1;33m=\u001b[0m \u001b[0mgaussian_kde\u001b[0m\u001b[1;33m(\u001b[0m\u001b[0my\u001b[0m\u001b[1;33m)\u001b[0m\u001b[1;33m\u001b[0m\u001b[0m\n",
      "\u001b[0;32mC:\\Users\\runni\\Anaconda3\\lib\\site-packages\\scipy\\stats\\kde.py\u001b[0m in \u001b[0;36m__init__\u001b[0;34m(self, dataset, bw_method)\u001b[0m\n\u001b[1;32m    170\u001b[0m \u001b[1;33m\u001b[0m\u001b[0m\n\u001b[1;32m    171\u001b[0m         \u001b[0mself\u001b[0m\u001b[1;33m.\u001b[0m\u001b[0md\u001b[0m\u001b[1;33m,\u001b[0m \u001b[0mself\u001b[0m\u001b[1;33m.\u001b[0m\u001b[0mn\u001b[0m \u001b[1;33m=\u001b[0m \u001b[0mself\u001b[0m\u001b[1;33m.\u001b[0m\u001b[0mdataset\u001b[0m\u001b[1;33m.\u001b[0m\u001b[0mshape\u001b[0m\u001b[1;33m\u001b[0m\u001b[0m\n\u001b[0;32m--> 172\u001b[0;31m         \u001b[0mself\u001b[0m\u001b[1;33m.\u001b[0m\u001b[0mset_bandwidth\u001b[0m\u001b[1;33m(\u001b[0m\u001b[0mbw_method\u001b[0m\u001b[1;33m=\u001b[0m\u001b[0mbw_method\u001b[0m\u001b[1;33m)\u001b[0m\u001b[1;33m\u001b[0m\u001b[0m\n\u001b[0m\u001b[1;32m    173\u001b[0m \u001b[1;33m\u001b[0m\u001b[0m\n\u001b[1;32m    174\u001b[0m     \u001b[1;32mdef\u001b[0m \u001b[0mevaluate\u001b[0m\u001b[1;33m(\u001b[0m\u001b[0mself\u001b[0m\u001b[1;33m,\u001b[0m \u001b[0mpoints\u001b[0m\u001b[1;33m)\u001b[0m\u001b[1;33m:\u001b[0m\u001b[1;33m\u001b[0m\u001b[0m\n",
      "\u001b[0;32mC:\\Users\\runni\\Anaconda3\\lib\\site-packages\\scipy\\stats\\kde.py\u001b[0m in \u001b[0;36mset_bandwidth\u001b[0;34m(self, bw_method)\u001b[0m\n\u001b[1;32m    497\u001b[0m             \u001b[1;32mraise\u001b[0m \u001b[0mValueError\u001b[0m\u001b[1;33m(\u001b[0m\u001b[0mmsg\u001b[0m\u001b[1;33m)\u001b[0m\u001b[1;33m\u001b[0m\u001b[0m\n\u001b[1;32m    498\u001b[0m \u001b[1;33m\u001b[0m\u001b[0m\n\u001b[0;32m--> 499\u001b[0;31m         \u001b[0mself\u001b[0m\u001b[1;33m.\u001b[0m\u001b[0m_compute_covariance\u001b[0m\u001b[1;33m(\u001b[0m\u001b[1;33m)\u001b[0m\u001b[1;33m\u001b[0m\u001b[0m\n\u001b[0m\u001b[1;32m    500\u001b[0m \u001b[1;33m\u001b[0m\u001b[0m\n\u001b[1;32m    501\u001b[0m     \u001b[1;32mdef\u001b[0m \u001b[0m_compute_covariance\u001b[0m\u001b[1;33m(\u001b[0m\u001b[0mself\u001b[0m\u001b[1;33m)\u001b[0m\u001b[1;33m:\u001b[0m\u001b[1;33m\u001b[0m\u001b[0m\n",
      "\u001b[0;32mC:\\Users\\runni\\Anaconda3\\lib\\site-packages\\scipy\\stats\\kde.py\u001b[0m in \u001b[0;36m_compute_covariance\u001b[0;34m(self)\u001b[0m\n\u001b[1;32m    508\u001b[0m             self._data_covariance = atleast_2d(np.cov(self.dataset, rowvar=1,\n\u001b[1;32m    509\u001b[0m                                                bias=False))\n\u001b[0;32m--> 510\u001b[0;31m             \u001b[0mself\u001b[0m\u001b[1;33m.\u001b[0m\u001b[0m_data_inv_cov\u001b[0m \u001b[1;33m=\u001b[0m \u001b[0mlinalg\u001b[0m\u001b[1;33m.\u001b[0m\u001b[0minv\u001b[0m\u001b[1;33m(\u001b[0m\u001b[0mself\u001b[0m\u001b[1;33m.\u001b[0m\u001b[0m_data_covariance\u001b[0m\u001b[1;33m)\u001b[0m\u001b[1;33m\u001b[0m\u001b[0m\n\u001b[0m\u001b[1;32m    511\u001b[0m \u001b[1;33m\u001b[0m\u001b[0m\n\u001b[1;32m    512\u001b[0m         \u001b[0mself\u001b[0m\u001b[1;33m.\u001b[0m\u001b[0mcovariance\u001b[0m \u001b[1;33m=\u001b[0m \u001b[0mself\u001b[0m\u001b[1;33m.\u001b[0m\u001b[0m_data_covariance\u001b[0m \u001b[1;33m*\u001b[0m \u001b[0mself\u001b[0m\u001b[1;33m.\u001b[0m\u001b[0mfactor\u001b[0m\u001b[1;33m**\u001b[0m\u001b[1;36m2\u001b[0m\u001b[1;33m\u001b[0m\u001b[0m\n",
      "\u001b[0;32mC:\\Users\\runni\\Anaconda3\\lib\\site-packages\\scipy\\linalg\\basic.py\u001b[0m in \u001b[0;36minv\u001b[0;34m(a, overwrite_a, check_finite)\u001b[0m\n\u001b[1;32m    817\u001b[0m         \u001b[0minv_a\u001b[0m\u001b[1;33m,\u001b[0m \u001b[0minfo\u001b[0m \u001b[1;33m=\u001b[0m \u001b[0mgetri\u001b[0m\u001b[1;33m(\u001b[0m\u001b[0mlu\u001b[0m\u001b[1;33m,\u001b[0m \u001b[0mpiv\u001b[0m\u001b[1;33m,\u001b[0m \u001b[0mlwork\u001b[0m\u001b[1;33m=\u001b[0m\u001b[0mlwork\u001b[0m\u001b[1;33m,\u001b[0m \u001b[0moverwrite_lu\u001b[0m\u001b[1;33m=\u001b[0m\u001b[1;36m1\u001b[0m\u001b[1;33m)\u001b[0m\u001b[1;33m\u001b[0m\u001b[0m\n\u001b[1;32m    818\u001b[0m     \u001b[1;32mif\u001b[0m \u001b[0minfo\u001b[0m \u001b[1;33m>\u001b[0m \u001b[1;36m0\u001b[0m\u001b[1;33m:\u001b[0m\u001b[1;33m\u001b[0m\u001b[0m\n\u001b[0;32m--> 819\u001b[0;31m         \u001b[1;32mraise\u001b[0m \u001b[0mLinAlgError\u001b[0m\u001b[1;33m(\u001b[0m\u001b[1;34m\"singular matrix\"\u001b[0m\u001b[1;33m)\u001b[0m\u001b[1;33m\u001b[0m\u001b[0m\n\u001b[0m\u001b[1;32m    820\u001b[0m     \u001b[1;32mif\u001b[0m \u001b[0minfo\u001b[0m \u001b[1;33m<\u001b[0m \u001b[1;36m0\u001b[0m\u001b[1;33m:\u001b[0m\u001b[1;33m\u001b[0m\u001b[0m\n\u001b[1;32m    821\u001b[0m         raise ValueError('illegal value in %d-th argument of internal '\n",
      "\u001b[0;31mLinAlgError\u001b[0m: singular matrix"
     ]
    },
    {
     "data": {
      "image/png": "[encoded data removed]",
      "text/plain": [
       "<matplotlib.figure.Figure at 0x2b78264d470>"
      ]
     },
     "metadata": {},
     "output_type": "display_data"
    },
    {
     "data": {
      "image/png": "[encoded data removed]",
      "text/plain": [
       "<matplotlib.figure.Figure at 0x2b78241e550>"
      ]
     },
     "metadata": {},
     "output_type": "display_data"
    }
   ],
   "source": [
    "from pandas.tools.plotting import boxplot\n",
    "\n",
    "mr_grouped_support = mr_support.groupby(['r_good_rating'])\n",
    "mr_grouped = mr.groupby(['r_good_rating'])\n",
    "\n",
    "# what variables we will plot\n",
    "plot_vars = ['u_age','u_male','m_days_to_video']\n",
    "\n",
    "for v in plot_vars:\n",
    "    plt.figure(figsize=(10,4))\n",
    "    plt.subplot(1,2,1)\n",
    "    ax = mr_grouped_support[v].plot.kde()\n",
    "    plt.legend('Bad_Rating','Good_Rating')\n",
    "    plt.title(v+' Support Vectors')\n",
    "    \n",
    "    plt.subplot(1,2,2)\n",
    "    ax = mr_grouped[v].plot.kde()\n",
    "    plt.legend(['Bad_Rating','Good_Rating'])\n",
    "    plt.title(v+' Original')\n"
   ]
  }
 ],
 "metadata": {
  "kernelspec": {
   "display_name": "Python [default]",
   "language": "python",
   "name": "python3"
  },
  "language_info": {
   "codemirror_mode": {
    "name": "ipython",
    "version": 3
   },
   "file_extension": ".py",
   "mimetype": "text/x-python",
   "name": "python",
   "nbconvert_exporter": "python",
   "pygments_lexer": "ipython3",
   "version": "3.5.2"
  }
 },
 "nbformat": 4,
 "nbformat_minor": 2
}
